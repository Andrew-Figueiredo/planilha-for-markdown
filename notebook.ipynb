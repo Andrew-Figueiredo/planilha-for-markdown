{
 "cells": [
  {
   "cell_type": "markdown",
   "id": "4885392c-d2e9-49bf-87ff-a4eec76c9a43",
   "metadata": {},
   "source": [
    "# Scripts para auxílio de Geração e Organização de Dados"
   ]
  },
  {
   "cell_type": "markdown",
   "id": "1e38b17b-0dfe-44f9-927d-87e7ee55eede",
   "metadata": {},
   "source": [
    "## Transformar Tabela de Planilha em Markdown para WIKI"
   ]
  },
  {
   "cell_type": "code",
   "execution_count": 1,
   "id": "967a7f50-0340-4974-98ff-274154240dfb",
   "metadata": {},
   "outputs": [
    {
     "name": "stdout",
     "output_type": "stream",
     "text": [
      "Planilha e Markdown GERADOS!!\n"
     ]
    }
   ],
   "source": [
    "import pandas as pd\n",
    "from utils import *\n",
    "\n",
    "    \n",
    "# Importar csv com as HUs da Sprint\n",
    "file_csv = './HUs.csv'\n",
    "data = pd.read_csv(file_csv)\n",
    "\n",
    "# Linhas abaixo realizar tratamento específico do arquivo que estou trabalhando\n",
    "data = data.drop('Work Item Type', axis=1)\n",
    "\n",
    "# Ajuste do index\n",
    "data = data.dropna().reset_index(drop=True)\n",
    "data.index += 1\n",
    "\n",
    "# Construir tabela padrão definida pelos lideres\n",
    "df_table = build_spreadsheet(data=data)\n",
    "\n",
    "# Gerar Tabela em excel\n",
    "df_table.to_excel('Plano de Teste.xlsx', index=False)\n",
    "\n",
    "# Tirar coluna Nome HU para gerar o markdown\n",
    "df_table = df_table.drop('Nome HU', axis=1)\n",
    "\n",
    "# Gerar o Markdown \n",
    "data_mkd = to_mark(df_table, 'Plano de teste.md')\n",
    "\n",
    "print('Planilha e Markdown GERADOS!!')"
   ]
  }
 ],
 "metadata": {
  "kernelspec": {
   "display_name": "Python 3 (ipykernel)",
   "language": "python",
   "name": "python3"
  },
  "language_info": {
   "codemirror_mode": {
    "name": "ipython",
    "version": 3
   },
   "file_extension": ".py",
   "mimetype": "text/x-python",
   "name": "python",
   "nbconvert_exporter": "python",
   "pygments_lexer": "ipython3",
   "version": "3.12.3"
  }
 },
 "nbformat": 4,
 "nbformat_minor": 5
}
